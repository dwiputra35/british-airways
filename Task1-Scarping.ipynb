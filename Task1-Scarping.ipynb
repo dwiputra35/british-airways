{
 "cells": [
  {
   "cell_type": "markdown",
   "metadata": {},
   "source": [
    "# Task\n",
    "\n",
    "\n",
    "1. **Web Scraping**: Utilize the website Skytrax to gather review data about the airline. You can use the provided Jupyter Notebook in the Resources section to execute Python code that will assist in data collection.\n",
    "\n",
    "2. **Data Analysis**: Once you have your dataset, prepare it by cleaning the messy and text-heavy data. After cleaning, conduct your own analysis to uncover insights. You might consider sentiment analysis, topic modeling, or generating word clouds to gain insights into the content of the reviews. It's recommended to complete this task using Python, but you can use any tool of your choice. Utilize the documentation websites provided in the Resources section to analyze the data.\n",
    "\n",
    "3. **Presenting Insights**: Create a single PowerPoint slide that summarizes your findings. Include visualizations and metrics in this slide, along with clear and concise explanations to quickly convey the key points from your analysis. Use the provided PowerPoint template to create this slide.\n",
    "\n"
   ]
  },
  {
   "cell_type": "markdown",
   "metadata": {},
   "source": [
    "Nama: Dwi Putra Satria Utama"
   ]
  },
  {
   "cell_type": "markdown",
   "metadata": {},
   "source": [
    "# Import libraries"
   ]
  },
  {
   "cell_type": "code",
   "execution_count": 1,
   "metadata": {},
   "outputs": [],
   "source": [
    "import requests\n",
    "from bs4 import BeautifulSoup\n",
    "import pandas as pd\n",
    "import time\n"
   ]
  },
  {
   "cell_type": "code",
   "execution_count": 2,
   "metadata": {},
   "outputs": [],
   "source": [
    "#url = \"https://www.airlinequality.com/airline-reviews/british-airways\"\n",
    "#response = requests.get(url)\n",
    "#html = response.text\n",
    "#soup = BeautifulSoup(html, \"html.parser\")\n",
    "#for i in soup.find_all('div', {'class': 'text_content'}):\n",
    "    #print(i.text)"
   ]
  },
  {
   "cell_type": "code",
   "execution_count": 3,
   "metadata": {},
   "outputs": [],
   "source": [
    "# URL\n",
    "url = \"https://www.airlinequality.com/airline-reviews/british-airways/page/{}\"\n",
    "\n",
    "# List untuk menyimpan hasil scraping\n",
    "scraped_data = []\n",
    "\n",
    "# Loop melalui 100 halaman\n",
    "for page in range(1, 101):\n",
    "    url = url.format(page)\n",
    "    response = requests.get(url)\n",
    "    \n",
    "    if response.status_code == 200:\n",
    "        html = response.text\n",
    "        soup = BeautifulSoup(html, \"html.parser\")\n",
    "        \n",
    "        for i in soup.find_all('div', {'class': 'text_content'}):\n",
    "            scraped_data.append(i.text)\n",
    "        \n",
    "        # Jeda waktu 3 detik\n",
    "        time.sleep(2)"
   ]
  },
  {
   "cell_type": "code",
   "execution_count": 4,
   "metadata": {},
   "outputs": [
    {
     "name": "stdout",
     "output_type": "stream",
     "text": [
      "                                               Reviews\n",
      "0    ✅ Trip Verified |  My family flew from Washing...\n",
      "1    ✅ Trip Verified |  Easy check in a T5. Galleri...\n",
      "2    Not Verified |  Flight delayed by an hour, it ...\n",
      "3    Not Verified | The staff are very rude and not...\n",
      "4    ✅ Trip Verified |  Good domestic flight operat...\n",
      "..                                                 ...\n",
      "995  Not Verified | Failed at all basic travel fund...\n",
      "996  ✅ Trip Verified |  They lost my baggage in a v...\n",
      "997  ✅ Trip Verified |  Late boarding led to a one ...\n",
      "998  ✅ Trip Verified | As usual the flight is delay...\n",
      "999  ✅ Trip Verified |  I had the most fantastic BA...\n",
      "\n",
      "[1000 rows x 1 columns]\n"
     ]
    }
   ],
   "source": [
    "# Buat DataFrame dari hasil scraping\n",
    "df = pd.DataFrame({\"Reviews\": scraped_data})\n",
    "\n",
    "# Menampilkan DataFrame\n",
    "print(df)"
   ]
  },
  {
   "cell_type": "code",
   "execution_count": 5,
   "metadata": {},
   "outputs": [
    {
     "data": {
      "text/html": [
       "<div>\n",
       "<style scoped>\n",
       "    .dataframe tbody tr th:only-of-type {\n",
       "        vertical-align: middle;\n",
       "    }\n",
       "\n",
       "    .dataframe tbody tr th {\n",
       "        vertical-align: top;\n",
       "    }\n",
       "\n",
       "    .dataframe thead th {\n",
       "        text-align: right;\n",
       "    }\n",
       "</style>\n",
       "<table border=\"1\" class=\"dataframe\">\n",
       "  <thead>\n",
       "    <tr style=\"text-align: right;\">\n",
       "      <th></th>\n",
       "      <th>Reviews</th>\n",
       "    </tr>\n",
       "  </thead>\n",
       "  <tbody>\n",
       "    <tr>\n",
       "      <th>0</th>\n",
       "      <td>My family flew from Washington to London on a ...</td>\n",
       "    </tr>\n",
       "    <tr>\n",
       "      <th>1</th>\n",
       "      <td>Easy check in a T5. Galleries south and North ...</td>\n",
       "    </tr>\n",
       "    <tr>\n",
       "      <th>2</th>\n",
       "      <td>Flight delayed by an hour, it happens, no bigg...</td>\n",
       "    </tr>\n",
       "    <tr>\n",
       "      <th>3</th>\n",
       "      <td>The staff are very rude and not trained proper...</td>\n",
       "    </tr>\n",
       "    <tr>\n",
       "      <th>4</th>\n",
       "      <td>Good domestic flight operated by BA Cityflyer....</td>\n",
       "    </tr>\n",
       "    <tr>\n",
       "      <th>...</th>\n",
       "      <td>...</td>\n",
       "    </tr>\n",
       "    <tr>\n",
       "      <th>995</th>\n",
       "      <td>Failed at all basic travel fundamentals: 1) Ou...</td>\n",
       "    </tr>\n",
       "    <tr>\n",
       "      <th>996</th>\n",
       "      <td>They lost my baggage in a very simple situatio...</td>\n",
       "    </tr>\n",
       "    <tr>\n",
       "      <th>997</th>\n",
       "      <td>Late boarding led to a one hour flight leaving...</td>\n",
       "    </tr>\n",
       "    <tr>\n",
       "      <th>998</th>\n",
       "      <td>As usual the flight is delayed. BA try to blam...</td>\n",
       "    </tr>\n",
       "    <tr>\n",
       "      <th>999</th>\n",
       "      <td>I had the most fantastic BA Flight today. The ...</td>\n",
       "    </tr>\n",
       "  </tbody>\n",
       "</table>\n",
       "<p>1000 rows × 1 columns</p>\n",
       "</div>"
      ],
      "text/plain": [
       "                                               Reviews\n",
       "0    My family flew from Washington to London on a ...\n",
       "1    Easy check in a T5. Galleries south and North ...\n",
       "2    Flight delayed by an hour, it happens, no bigg...\n",
       "3    The staff are very rude and not trained proper...\n",
       "4    Good domestic flight operated by BA Cityflyer....\n",
       "..                                                 ...\n",
       "995  Failed at all basic travel fundamentals: 1) Ou...\n",
       "996  They lost my baggage in a very simple situatio...\n",
       "997  Late boarding led to a one hour flight leaving...\n",
       "998  As usual the flight is delayed. BA try to blam...\n",
       "999  I had the most fantastic BA Flight today. The ...\n",
       "\n",
       "[1000 rows x 1 columns]"
      ]
     },
     "execution_count": 5,
     "metadata": {},
     "output_type": "execute_result"
    }
   ],
   "source": [
    "# Menghapus dari karakter \"|\" ke belakang\n",
    "df[\"Reviews\"] = df[\"Reviews\"].str.split(\"|\", n=1).str[-1].str.strip()\n",
    "\n",
    "# Menampilkan DataFrame setelah pembersihan\n",
    "df"
   ]
  },
  {
   "cell_type": "code",
   "execution_count": 6,
   "metadata": {},
   "outputs": [],
   "source": [
    "# Menyimpan DataFrame ke file CSV\n",
    "df.to_csv(\"british_airways_reviews_19august2023.csv\", index=False)"
   ]
  }
 ],
 "metadata": {
  "kernelspec": {
   "display_name": "base",
   "language": "python",
   "name": "python3"
  },
  "language_info": {
   "codemirror_mode": {
    "name": "ipython",
    "version": 3
   },
   "file_extension": ".py",
   "mimetype": "text/x-python",
   "name": "python",
   "nbconvert_exporter": "python",
   "pygments_lexer": "ipython3",
   "version": "3.9.16"
  },
  "orig_nbformat": 4
 },
 "nbformat": 4,
 "nbformat_minor": 2
}
